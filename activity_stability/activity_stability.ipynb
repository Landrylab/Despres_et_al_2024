{
 "cells": [
  {
   "cell_type": "code",
   "execution_count": null,
   "id": "de3dc874-7486-43b5-94d7-25eb988dec47",
   "metadata": {},
   "outputs": [],
   "source": [
    "import pandas as pd\n",
    "import matplotlib.pyplot as plt\n",
    "import numpy as np\n",
    "import seaborn as sns\n",
    "import scipy.stats as stats"
   ]
  },
  {
   "cell_type": "code",
   "execution_count": null,
   "id": "6b456466-62ad-4d1e-b7e7-47028519f860",
   "metadata": {},
   "outputs": [],
   "source": [
    "def convert_mg_to_mmolar(conc_mg_ml, mass):\n",
    "    return round(conc_mg_ml/mass*1000, ndigits=3)\n",
    "\n",
    "convert_mg_to_mmolar(0.225, 129.1)"
   ]
  },
  {
   "cell_type": "markdown",
   "id": "09beec4f-daf6-498c-9e66-8dafc41e64fd",
   "metadata": {},
   "source": [
    "## Show OD at 237 varies linearly with product conentration"
   ]
  },
  {
   "cell_type": "code",
   "execution_count": null,
   "id": "37d58513-4a04-4901-bc72-4767e8335d21",
   "metadata": {},
   "outputs": [],
   "source": [
    "substrate_product_dosing = pd.read_excel('./spectra/ratio_5FC_5FU_reading_1.xlsx', skiprows=[0]+[x for x in range(82,107)],\n",
    "                                 na_values='Overflow')\n",
    "substrate_product_dosing = pd.melt(substrate_product_dosing, id_vars='[nm]', var_name='wavelength', value_name='OD')\n",
    "substrate_product_dosing['wavelength'] = substrate_product_dosing['wavelength'].astype(int)\n",
    "substrate_product_dosing['OD'] = substrate_product_dosing['OD'].astype(float)\n",
    "substrate_product_dosing.rename(columns = {'[nm]':'row'}, inplace=True)\n",
    "substrate_product_dosing['rep']=1\n",
    "substrate_product_dosing"
   ]
  },
  {
   "cell_type": "code",
   "execution_count": null,
   "id": "5411681b-e46b-4e9c-923d-96ad1378093e",
   "metadata": {},
   "outputs": [],
   "source": [
    "for rep in [2,3,4,5]:\n",
    "    data_df = pd.read_excel('./spectra/ratio_5FC_5FU_reading_'+str(rep)+'.xlsx', skiprows=[0]+[x for x in range(82,107)],\n",
    "                                 na_values='Overflow')\n",
    "    data_df = pd.melt(data_df, id_vars='[nm]', var_name='wavelength', value_name='OD')\n",
    "    data_df['wavelength'] = data_df['wavelength'].astype(int)\n",
    "    data_df['OD'] = data_df['OD'].astype(float)\n",
    "    data_df.rename(columns = {'[nm]':'row'}, inplace=True)\n",
    "    data_df['rep']=rep\n",
    "\n",
    "    \n",
    "    substrate_product_dosing=substrate_product_dosing.append(data_df, ignore_index=True)\n",
    "    \n",
    "substrate_product_dosing"
   ]
  },
  {
   "cell_type": "code",
   "execution_count": null,
   "id": "92ef0336-785b-44ea-b2bf-033b79529a14",
   "metadata": {},
   "outputs": [],
   "source": [
    "FU_frac_dict =     {'3':0,\n",
    "                    '4':1,\n",
    "                    '5':0.5,\n",
    "                    '6':0.75,\n",
    "                    '7':0.25,\n",
    "                    '8':0.9,\n",
    "                    '9':0.1,\n",
    "                    '10':0.95,\n",
    "                    '11':0.05,\n",
    "                    '12':0.376}\n",
    "\n",
    "sustrate_start_dict =  {'A':convert_mg_to_mmolar(0.225/2, 129.1),\n",
    "                        'B':convert_mg_to_mmolar(0.2/2, 129.1),\n",
    "                        'C':convert_mg_to_mmolar(0.175/2, 129.1),\n",
    "                        'D':convert_mg_to_mmolar(0.15/2, 129.1),\n",
    "                        'E':convert_mg_to_mmolar(0.125/2, 129.1),\n",
    "                        'F':convert_mg_to_mmolar(0.1/2, 129.1),\n",
    "                        'G':convert_mg_to_mmolar(0.075/2, 129.1),\n",
    "                        'H':convert_mg_to_mmolar(0/2, 129.1)}\n",
    "\n",
    "substrate_product_dosing['FC+FU_conc'] = substrate_product_dosing.apply(lambda x: sustrate_start_dict[x.row[0]], axis=1)\n",
    "substrate_product_dosing['FU_frac'] = substrate_product_dosing.apply(lambda x: FU_frac_dict[x.row[1:]], axis=1)\n",
    "substrate_product_dosing['FU_conc'] = substrate_product_dosing['FC+FU_conc'] * substrate_product_dosing['FU_frac']\n",
    "\n",
    "substrate_product_dosing"
   ]
  },
  {
   "cell_type": "code",
   "execution_count": null,
   "id": "d342aa67-9d2d-4bcb-8652-664d5421be1f",
   "metadata": {},
   "outputs": [],
   "source": [
    "test_775 = substrate_product_dosing[substrate_product_dosing['FC+FU_conc']==0.775]\n",
    "\n",
    "test_775"
   ]
  },
  {
   "cell_type": "code",
   "execution_count": null,
   "id": "25fe5851-807b-458e-81d0-3d911711d12b",
   "metadata": {},
   "outputs": [],
   "source": [
    "plt.figure(figsize=(16,12))\n",
    "\n",
    "sns.lineplot(data=test_775, x='wavelength', y='OD', hue='FU_frac', legend='full', palette='cividis')\n",
    "plt.xlim(200,350)\n",
    "plt.legend(fontsize=12, title='Fraction of 5-FC->5-FU')\n",
    "plt.xlabel('Wavelength (nm)', fontsize=14)\n",
    "plt.ylabel('Absorbance (OD)', fontsize=14)\n",
    "\n",
    "\n",
    "plt.axvline(237, color='k', linestyle='--')\n",
    "\n",
    "\n",
    "\n",
    "plt.savefig('./figures/spectra_775uM.svg', format='svg', dpi=300)"
   ]
  },
  {
   "cell_type": "code",
   "execution_count": null,
   "id": "86301a92-a075-4031-8a64-03975135c299",
   "metadata": {},
   "outputs": [],
   "source": [
    "test_775_237nm = test_775[test_775['wavelength']==237]\n",
    "\n",
    "sns.regplot(data = test_775_237nm, x='FU_frac', y='OD', color='k', robust=True, line_kws={'color':'blue', 'linestyle':'--', 'alpha':0.5}, x_jitter=.01, scatter_kws={'alpha':0.25})\n",
    "\n"
   ]
  },
  {
   "cell_type": "code",
   "execution_count": null,
   "id": "eff24bfa-077a-4c55-afdf-6948b09f3ea4",
   "metadata": {},
   "outputs": [],
   "source": [
    "all_237 = substrate_product_dosing[substrate_product_dosing['wavelength']==237]\n",
    "all_237"
   ]
  },
  {
   "cell_type": "code",
   "execution_count": null,
   "id": "f30d8e25-4e4d-4255-8fea-2cec581b0c2a",
   "metadata": {},
   "outputs": [],
   "source": [
    "sns.lmplot(x=\"FU_frac\", y=\"OD\", hue=\"FC+FU_conc\", data=all_237, palette='cividis')\n",
    "\n",
    "plt.title('237 nm')\n",
    "plt.ylabel('Absorbance (OD)', fontsize=14)\n",
    "plt.xlabel('Fraction of 5-FC->5-FU', fontsize=14)"
   ]
  },
  {
   "cell_type": "code",
   "execution_count": null,
   "id": "309b6608-7a56-4f2a-8f2f-11543519292f",
   "metadata": {},
   "outputs": [],
   "source": [
    "sns.lmplot(x=\"FU_conc\", y=\"OD\", hue=\"FC+FU_conc\", data=all_237, palette='cividis')\n",
    "\n",
    "plt.title('237 nm')\n",
    "plt.ylabel('Absorbance (OD)', fontsize=14)\n",
    "plt.xlabel('5-FU [mM]', fontsize=14)"
   ]
  },
  {
   "cell_type": "code",
   "execution_count": null,
   "id": "efe4ec02-4170-453a-a32f-7c2975b7abac",
   "metadata": {},
   "outputs": [],
   "source": [
    "all_237['FC+FU_conc'].unique()"
   ]
  },
  {
   "cell_type": "code",
   "execution_count": null,
   "id": "232c8804-3050-4c7c-a91a-601c63c1297d",
   "metadata": {},
   "outputs": [],
   "source": [
    "conc_regress_dict = {}\n",
    "\n",
    "for conc in [0.871, 0.775, 0.678, 0.581, 0.484, 0.387, 0.29 , 0.]:\n",
    "    print(stats.linregress(all_237[all_237['FC+FU_conc']==conc]['OD'], all_237[all_237['FC+FU_conc']==conc]['FU_conc']))\n",
    "    conc_regress_dict[conc] = stats.linregress(all_237[all_237['FC+FU_conc']==conc]['OD'], all_237[all_237['FC+FU_conc']==conc]['FU_conc'])\n",
    "\n"
   ]
  },
  {
   "cell_type": "markdown",
   "id": "9821c6cf-cf2d-4034-81ec-12c5222ea709",
   "metadata": {},
   "source": [
    "## Stability data"
   ]
  },
  {
   "cell_type": "code",
   "execution_count": null,
   "id": "5c52cac0-68cd-48e1-96d3-8cd77c742271",
   "metadata": {},
   "outputs": [],
   "source": [
    "ti_df = pd.read_excel('./data/ti_heteromers.xlsx', index_col=0)\n",
    "ti_df\n",
    "\n",
    "ti_run_1 = ti_df[ti_df['run']==1]"
   ]
  },
  {
   "cell_type": "code",
   "execution_count": null,
   "id": "346079b0-3fa1-4259-878f-f2c3378b8f31",
   "metadata": {},
   "outputs": [],
   "source": [
    "ti_df"
   ]
  },
  {
   "cell_type": "code",
   "execution_count": null,
   "id": "112fc02f-6768-41ed-8d10-b34fb1820aae",
   "metadata": {},
   "outputs": [],
   "source": [
    "ti_df[ti_df['sample'].isin(['WT_1', 'E64V', 'R73G', 'M100W', 'E64V-R73G', 'E64V-M100W', 'D155S', 'D155S-M100W'])]"
   ]
  },
  {
   "cell_type": "code",
   "execution_count": null,
   "id": "10da9041-337e-4611-8365-2c1889de5349",
   "metadata": {},
   "outputs": [],
   "source": [
    "plt.figure(figsize=(8,8), facecolor='white')\n",
    "\n",
    "ax = sns.swarmplot(data=ti_df[ti_df['sample'].isin(['WT_1', 'E64V', 'R73G', 'M100W', 'E64V-R73G', 'E64V-M100W', 'WT_2','D155S', 'D155S-M100W'])], \n",
    "                   order = ['WT_1', 'E64V', 'R73G', 'M100W', 'E64V-R73G', 'E64V-M100W', 'WT_2','D155S', 'D155S-M100W'],\n",
    "                   y='sample', x='Ti', dodge=True, size=10, palette=['black','#C03830','black','black','#489FA7','#489FA7', 'black','#C03830'], orient='h')\n",
    "\n",
    "sample_list = ['WT_1', 'E64V', 'R73G', 'M100W', 'E64V-R73G', 'E64V-M100W', 'D155S', 'D155S-M100W']\n",
    "\n",
    "for x in range(0,6):\n",
    "    mean = np.mean(ti_run_1[ti_run_1['sample']==sample_list[x]]['Ti'])\n",
    "    sem = stats.sem(ti_run_1[ti_run_1['sample']==sample_list[x]]['Ti'])\n",
    "    interval = stats.t.interval(alpha=0.95, df=3-1, loc=mean, scale=sem)\n",
    "    #plt.plot([x,x], interval, '-', lw=3, zorder=9, color='grey')\n",
    "    print(stats.t.interval(alpha=0.95, df=3-1, loc=mean, scale=sem))\n",
    "stats.t.interval(alpha=0.95, df=3-1, loc=37.98, scale=0.05)\n",
    "\n",
    "\n",
    "plt.xlabel('T$_{m}$  ($^\\circ$C)', fontsize=22)\n",
    "plt.xticks(fontsize=18)\n",
    "\n",
    "plt.yticks([0,1,2,3,4,5,6,7,8], ['WT 1', 'E64V', 'R73G', 'M100W', 'E64V/\\nR73G','E64V/\\nM100W', 'WT 2', 'D155S', 'D155S/\\nM100W'], fontsize=18)\n",
    "plt.ylabel('Variant', fontsize=22)\n",
    "ax.get_yticklabels()[2].set_color(\"grey\")\n",
    "ax.get_yticklabels()[3].set_color(\"grey\")\n",
    "ax.get_yticklabels()[8].set_color(\"grey\")\n",
    "\n",
    "plt.plot([31.6], [2], '<', 'k', ms=12, color='grey')\n",
    "plt.plot([31.6], [3], '<', 'k', ms=12, color='grey')\n",
    "plt.plot([31.6], [8], '<', 'k', ms=12, color='grey')\n",
    "\n",
    "\n",
    "plt.xlim(31,58)\n",
    "plt.tight_layout()\n",
    "plt.savefig('./figures/Tm_E64V_mutants.tiff', format='tiff', dpi=600)"
   ]
  },
  {
   "cell_type": "code",
   "execution_count": null,
   "id": "e8a0c4a2-f7f5-4b61-a6e4-c01590a9e4e8",
   "metadata": {},
   "outputs": [],
   "source": [
    "stats.ttest_ind([38.0, 37.9, 38], [55.8, 55.8, 55.8], equal_var=False)"
   ]
  },
  {
   "cell_type": "code",
   "execution_count": null,
   "id": "29d724ef-b252-4f07-9b78-87c6df676b6e",
   "metadata": {},
   "outputs": [],
   "source": [
    "stats.ttest_ind([53.1, 53.8, 53.1], [55.8, 55.8, 55.8], equal_var=False)"
   ]
  },
  {
   "cell_type": "code",
   "execution_count": null,
   "id": "2c35b276-c7f0-454d-8709-a0020285061e",
   "metadata": {},
   "outputs": [],
   "source": [
    "stats.ttest_ind([53.9, 54, 53.7], [55.8, 55.8, 55.8], equal_var=False)"
   ]
  },
  {
   "cell_type": "code",
   "execution_count": null,
   "id": "375d4cf6-d9b2-405d-a01b-f9673c704659",
   "metadata": {},
   "outputs": [],
   "source": [
    "stats.ttest_ind([53.9, 54, 53.7], [53.1, 53.8, 53.1], equal_var=False)"
   ]
  },
  {
   "cell_type": "code",
   "execution_count": null,
   "id": "76a1aff7-67bf-48b9-b7c5-0203c4564297",
   "metadata": {},
   "outputs": [],
   "source": [
    "enzyme_assay_1 = pd.read_excel('./spectra/01112023_activity_test_format.xlsx', na_values='Overflow')\n",
    "enzyme_assay_1"
   ]
  },
  {
   "cell_type": "code",
   "execution_count": null,
   "id": "ae96b9cd-3602-4399-8b83-c44ec85a3dd6",
   "metadata": {},
   "outputs": [],
   "source": [
    "enzyme_assay_1.columns"
   ]
  },
  {
   "cell_type": "code",
   "execution_count": null,
   "id": "40fffaf7-0f73-4d68-8655-38dfc9fd082f",
   "metadata": {},
   "outputs": [],
   "source": [
    "enzyme_assay_1_sample_dict = {1:'WT',\n",
    "                              2:'E64V',\n",
    "                              3:'R73G',\n",
    "                              4:'M100W',\n",
    "                              5:'E64V-R73G', \n",
    "                              6:'E64V-M100W',\n",
    "                              7:'blank'}"
   ]
  },
  {
   "cell_type": "code",
   "execution_count": null,
   "id": "c7de3adc-95a6-4064-99be-e297a595780a",
   "metadata": {},
   "outputs": [],
   "source": [
    "enzyme_assay_1['sample'] = enzyme_assay_1.apply((lambda x: enzyme_assay_1_sample_dict[int(x['well'][-1])]), axis=1)\n",
    "\n",
    "\n",
    "enzyme_assay_1"
   ]
  },
  {
   "cell_type": "code",
   "execution_count": null,
   "id": "44004a09-789d-4c52-bf2f-d52ad98118e1",
   "metadata": {},
   "outputs": [],
   "source": [
    "enzyme_assay_2 = pd.read_excel('./spectra/02112023_activity_test_format.xlsx', na_values='Overflow')\n",
    "enzyme_assay_2"
   ]
  },
  {
   "cell_type": "code",
   "execution_count": null,
   "id": "7ea8972d-38f0-45e7-a490-bb341b56ef13",
   "metadata": {},
   "outputs": [],
   "source": [
    "enzyme_assay_1_blank_1 = enzyme_assay_1[enzyme_assay_1['well']=='A7']\n",
    "enzyme_assay_1_blank_2 = enzyme_assay_1[enzyme_assay_1['well']=='B7']\n",
    "enzyme_assay_1_blank_3 = enzyme_assay_1[enzyme_assay_1['well']=='C7']\n"
   ]
  },
  {
   "cell_type": "code",
   "execution_count": null,
   "id": "72e6f005-3426-4a32-b72a-78e99e266de1",
   "metadata": {},
   "outputs": [],
   "source": [
    "enzyme_assay_1_WT_1 = enzyme_assay_1[enzyme_assay_1['well']=='A1']\n",
    "enzyme_assay_1_WT_2 = enzyme_assay_1[enzyme_assay_1['well']=='B1']\n",
    "enzyme_assay_1_WT_3 = enzyme_assay_1[enzyme_assay_1['well']=='C1']"
   ]
  },
  {
   "cell_type": "code",
   "execution_count": null,
   "id": "d3458ecc-7382-40f1-924d-2c7d9c57789d",
   "metadata": {},
   "outputs": [],
   "source": [
    "enzyme_assay_1_WT_1"
   ]
  },
  {
   "cell_type": "code",
   "execution_count": null,
   "id": "841d582e-eed5-4e8a-b892-3cb1b11349da",
   "metadata": {},
   "outputs": [],
   "source": [
    "plt.plot(enzyme_assay_1_WT_1['Time [s]'], enzyme_assay_1_WT_1[237])\n",
    "plt.plot(enzyme_assay_1_WT_2['Time [s]'], enzyme_assay_1_WT_2[237])\n",
    "plt.plot(enzyme_assay_1_WT_3['Time [s]'], enzyme_assay_1_WT_3[237])\n",
    "\n",
    "\n",
    "plt.plot(enzyme_assay_1_blank_1['Time [s]'], enzyme_assay_1_blank_1[237])\n",
    "plt.plot(enzyme_assay_1_blank_2['Time [s]'], enzyme_assay_1_blank_2[237])\n",
    "plt.plot(enzyme_assay_1_blank_3['Time [s]'], enzyme_assay_1_blank_3[237])\n",
    "\n",
    "plt.axhline(3.06)\n",
    "plt.axhline(1.17)"
   ]
  },
  {
   "cell_type": "code",
   "execution_count": null,
   "id": "1de1ef38-c3e1-478e-b7d2-75435162bdc7",
   "metadata": {},
   "outputs": [],
   "source": [
    "stats.linregress(enzyme_assay_1_blank_1['Time [s]'], enzyme_assay_1_blank_1[237])"
   ]
  },
  {
   "cell_type": "code",
   "execution_count": null,
   "id": "92ef90aa-8594-4e71-a4cc-f11326272edc",
   "metadata": {},
   "outputs": [],
   "source": [
    "stats.linregress(enzyme_assay_1_blank_2['Time [s]'], enzyme_assay_1_blank_2[237])"
   ]
  },
  {
   "cell_type": "code",
   "execution_count": null,
   "id": "63c3bb45-b054-4f40-8418-06747891bfc5",
   "metadata": {},
   "outputs": [],
   "source": [
    "stats.linregress(enzyme_assay_1_blank_3['Time [s]'], enzyme_assay_1_blank_3[237])"
   ]
  },
  {
   "cell_type": "code",
   "execution_count": null,
   "id": "ea4f52b6-738f-47d6-99e3-c984864f9fdd",
   "metadata": {},
   "outputs": [],
   "source": [
    "(-1.945830288948559e-06*11609)+3.0910696272332303"
   ]
  },
  {
   "cell_type": "code",
   "execution_count": null,
   "id": "d4266fa4-28ee-48b7-8a87-90531dd0888d",
   "metadata": {},
   "outputs": [],
   "source": [
    "blank_mean = (enzyme_assay_1_blank_1[237].to_numpy()+enzyme_assay_1_blank_2[237].to_numpy()+enzyme_assay_1_blank_3[237].to_numpy())/3"
   ]
  },
  {
   "cell_type": "code",
   "execution_count": null,
   "id": "1fa800c9-4244-4d6b-9aaa-4e892d9aaab7",
   "metadata": {},
   "outputs": [],
   "source": [
    "stats.linregress(enzyme_assay_1_blank_3['Time [s]'], blank_mean)"
   ]
  },
  {
   "cell_type": "code",
   "execution_count": null,
   "id": "f62dd446-118b-4bdb-8c20-82f35d58757b",
   "metadata": {},
   "outputs": [],
   "source": [
    "[1,2]+[2,3]"
   ]
  },
  {
   "cell_type": "code",
   "execution_count": null,
   "id": "ca05b9b0-288d-4721-be7a-737620b01e21",
   "metadata": {},
   "outputs": [],
   "source": [
    "max_abs =  list(enzyme_assay_1_blank_1[237].to_numpy().flatten())+list(enzyme_assay_1_blank_2[237].to_numpy().flatten())+list(enzyme_assay_1_blank_3[237].to_numpy().flatten())\n",
    "\n",
    "np.mean(max_abs)"
   ]
  },
  {
   "cell_type": "code",
   "execution_count": null,
   "id": "f543f841-da6f-4be4-9a7a-6ea46d1530a2",
   "metadata": {},
   "outputs": [],
   "source": [
    "min_abs = (enzyme_assay_1_WT_1.at[129, 237]+enzyme_assay_1_WT_2.at[259, 237]+enzyme_assay_1_WT_3.at[389, 237])/3\n",
    "min_abs"
   ]
  },
  {
   "cell_type": "code",
   "execution_count": null,
   "id": "f339ce19-5209-4afe-a555-e828405abc6d",
   "metadata": {},
   "outputs": [],
   "source": [
    "enzyme_assay_1_WT_3"
   ]
  },
  {
   "cell_type": "code",
   "execution_count": null,
   "id": "77d79519-c765-4774-9596-81b44e7f72e4",
   "metadata": {},
   "outputs": [],
   "source": [
    "enzyme_assay_1['FU_converted'] = enzyme_assay_1.apply((lambda x: (np.mean(max_abs)-x[237])/(np.mean(max_abs)-min_abs)),axis=1)"
   ]
  },
  {
   "cell_type": "code",
   "execution_count": null,
   "id": "d372cc8b-5c47-4dfa-ba36-8aba4f334266",
   "metadata": {},
   "outputs": [],
   "source": [
    "enzyme_assay_2_sample_dict = {1:'WT',\n",
    "                              2:'R53I',\n",
    "                              3:'D155S',\n",
    "                              4:'R53I-M100W',\n",
    "                              5:'D155S-M100W', \n",
    "                              6:'NA',\n",
    "                              7:'blank'}"
   ]
  },
  {
   "cell_type": "code",
   "execution_count": null,
   "id": "1001d643-feea-46f9-b4c0-017afbb85fac",
   "metadata": {},
   "outputs": [],
   "source": [
    "enzyme_assay_2_blank_1 = enzyme_assay_2[enzyme_assay_2['well']=='A7']\n",
    "enzyme_assay_2_blank_2 = enzyme_assay_2[enzyme_assay_2['well']=='B7']\n",
    "enzyme_assay_2_blank_3 = enzyme_assay_2[enzyme_assay_2['well']=='C7']\n"
   ]
  },
  {
   "cell_type": "code",
   "execution_count": null,
   "id": "0093ed40-7f40-4224-8c9e-9f125e4d0d75",
   "metadata": {},
   "outputs": [],
   "source": [
    "enzyme_assay_2_WT_1 = enzyme_assay_2[enzyme_assay_2['well']=='A1']\n",
    "enzyme_assay_2_WT_2 = enzyme_assay_2[enzyme_assay_2['well']=='B1']\n",
    "enzyme_assay_2_WT_3 = enzyme_assay_2[enzyme_assay_2['well']=='C1']"
   ]
  },
  {
   "cell_type": "code",
   "execution_count": null,
   "id": "8276cd36-f778-429d-b707-5ac7f08c3513",
   "metadata": {},
   "outputs": [],
   "source": [
    "blank_mean = (enzyme_assay_2_blank_1[237].to_numpy()+enzyme_assay_2_blank_2[237].to_numpy()+enzyme_assay_2_blank_3[237].to_numpy())/3"
   ]
  },
  {
   "cell_type": "code",
   "execution_count": null,
   "id": "e9b2d9fa-3936-4a60-9c59-124479cc3997",
   "metadata": {},
   "outputs": [],
   "source": [
    "stats.linregress(enzyme_assay_2_blank_3['Time [s]'], blank_mean)"
   ]
  },
  {
   "cell_type": "code",
   "execution_count": null,
   "id": "60a0575f-c5fe-4482-958a-27788a52079a",
   "metadata": {},
   "outputs": [],
   "source": [
    "max_abs =  list(enzyme_assay_2_blank_1[237].to_numpy().flatten())+list(enzyme_assay_2_blank_2[237].to_numpy().flatten())+list(enzyme_assay_2_blank_3[237].to_numpy().flatten())\n",
    "\n",
    "np.mean(max_abs)"
   ]
  },
  {
   "cell_type": "code",
   "execution_count": null,
   "id": "ee9183ce-c498-40c5-87f4-fde8aea7d17f",
   "metadata": {},
   "outputs": [],
   "source": [
    "min_abs = (enzyme_assay_2_WT_1.at[129, 237]+enzyme_assay_2_WT_2.at[259, 237]+enzyme_assay_2_WT_3.at[389, 237])/3\n",
    "min_abs"
   ]
  },
  {
   "cell_type": "code",
   "execution_count": null,
   "id": "2a425fcc-a41f-4f44-85ce-21a1b0d3a602",
   "metadata": {},
   "outputs": [],
   "source": [
    "enzyme_assay_2['FU_converted'] = enzyme_assay_2.apply((lambda x: (np.mean(max_abs)-x[237])/(np.mean(max_abs)-min_abs)),axis=1)\n",
    "\n",
    "enzyme_assay_2['sample'] = enzyme_assay_2.apply((lambda x: enzyme_assay_2_sample_dict[int(x['well'][-1])]), axis=1)\n"
   ]
  },
  {
   "cell_type": "code",
   "execution_count": null,
   "id": "6779e4fd-cc5f-474a-80bc-48248e935a64",
   "metadata": {},
   "outputs": [],
   "source": [
    "time_vals_1 = list(enzyme_assay_1['Time [s]'])\n",
    "\n",
    "rel_to_wt_assay_1 = {}\n",
    "\n",
    "for time in time_vals_1:\n",
    "    mean_FU_converted = np.mean(enzyme_assay_1[(enzyme_assay_1['sample']=='WT')&(enzyme_assay_1['Time [s]']==time)]['FU_converted'])\n",
    "    rel_to_wt_assay_1[time]=mean_FU_converted\n",
    "\n",
    "time_vals_2 = list(enzyme_assay_2['Time [s]'])   \n",
    "rel_to_wt_assay_2 = {}\n",
    "\n",
    "for time in time_vals_2:\n",
    "    mean_FU_converted = np.mean(enzyme_assay_2[(enzyme_assay_2['sample']=='WT')&(enzyme_assay_2['Time [s]']==time)]['FU_converted'])\n",
    "    rel_to_wt_assay_2[time]=mean_FU_converted\n",
    "\n",
    "#rel_to_wt_assay_2"
   ]
  },
  {
   "cell_type": "code",
   "execution_count": null,
   "id": "4a35e9cd-3678-4143-94d0-a1e8455029ef",
   "metadata": {},
   "outputs": [],
   "source": [
    "enzyme_assay_1['rel_to_WT'] = enzyme_assay_1.apply(lambda x: x.FU_converted/(rel_to_wt_assay_1[x['Time [s]']]), axis=1)\n",
    "enzyme_assay_2['rel_to_WT'] = enzyme_assay_2.apply(lambda x: x.FU_converted/(rel_to_wt_assay_2[x['Time [s]']]), axis=1)\n",
    "\n",
    "enzyme_assay_1"
   ]
  },
  {
   "cell_type": "code",
   "execution_count": null,
   "id": "3af1faf6-e8dd-4245-853b-58639286f8ae",
   "metadata": {},
   "outputs": [],
   "source": [
    "color_dict = {'WT':'black',\n",
    "              'R53I':sns.color_palette('Greys', 10)[9],\n",
    "              'E64V':sns.color_palette('Greys', 10)[7],\n",
    "              'D155S':sns.color_palette('Greys', 10)[5],\n",
    "              \n",
    "              'R73G':sns.color_palette('Blues', 10)[9],\n",
    "              'M100W':sns.color_palette('Blues', 10)[6],\n",
    "              \n",
    "              'E64V-R73G': sns.color_palette('plasma', 10)[3],\n",
    "              'E64V-M100W': sns.color_palette('plasma', 10)[0],\n",
    "              'R53I-M100W': sns.color_palette('plasma', 10)[7],\n",
    "              'D155S-M100W': sns.color_palette('plasma', 10)[9]}"
   ]
  },
  {
   "cell_type": "code",
   "execution_count": null,
   "id": "dfb1c7c5-2f23-43dd-bc9d-daed89bc4542",
   "metadata": {},
   "outputs": [],
   "source": [
    "from matplotlib.lines import Line2D\n"
   ]
  },
  {
   "cell_type": "code",
   "execution_count": null,
   "id": "8c0a5ed0-73ae-4b77-ab3f-38d6e1e9ac50",
   "metadata": {},
   "outputs": [],
   "source": [
    "legend_elements = [Line2D([0], [0], color=sns.color_palette('Greys', 10)[9], label='R53I', linestyle='-', marker=None, lw=4),\n",
    "                   Line2D([0], [0], color=sns.color_palette('Greys', 10)[7], label='E64V', linestyle='-', marker=None, lw=4),\n",
    "                   Line2D([0], [0], color=sns.color_palette('Greys', 10)[5], label='D155S', linestyle='-', marker=None, lw=4),\n",
    "                   \n",
    "                   Line2D([0], [0], color=sns.color_palette('Blues', 10)[9], label='R73G', linestyle='-', marker=None, lw=4),\n",
    "                   Line2D([0], [0], color=sns.color_palette('Blues', 10)[6], label='M100W', linestyle='-', marker=None, lw=4)]\n",
    "                   \n"
   ]
  },
  {
   "cell_type": "code",
   "execution_count": null,
   "id": "d1e3cc3d-a2bc-4f9e-8064-2a6a9691d623",
   "metadata": {},
   "outputs": [],
   "source": [
    "plt.figure(figsize=(4.5,4.5), facecolor='white')\n",
    "sns.lineplot(data=enzyme_assay_1[(enzyme_assay_1['Time [s]']>0)&(enzyme_assay_1['sample'].isin(['E64V', 'R73G', 'M100W']))], \n",
    "             x='Time [s]', y='rel_to_WT', hue='sample', palette=color_dict, lw=4, alpha=0.9)\n",
    "\n",
    "sns.lineplot(data=enzyme_assay_2[(enzyme_assay_2['Time [s]']>0)&(enzyme_assay_2['sample'].isin(['R53I', 'D155S']))],\n",
    "             x='Time [s]', y='rel_to_WT', hue='sample', palette=color_dict, lw=4, alpha=0.9)\n",
    "\n",
    "plt.legend(handles=legend_elements, fontsize=14, loc=(0.1,0.3), title_fontsize=14, frameon=False, ncol=2)\n",
    "\n",
    "\n",
    "\n",
    "plt.xlim(-100, 11609)\n",
    "plt.ylim(-0.05,1.05)\n",
    "plt.xlabel('Time (s)', fontsize=19)\n",
    "plt.ylabel('5-FC converted relative to WT', fontsize=19)\n",
    "plt.xticks(fontsize=13)\n",
    "plt.yticks(fontsize=13)\n",
    "plt.title('Single variants', fontsize=19)\n",
    "\n",
    "plt.savefig('./figures/fig4_a_1.svg', format='svg', dpi=600)"
   ]
  },
  {
   "cell_type": "code",
   "execution_count": null,
   "id": "38144abc-0bd3-4125-8307-fff9fe6e4bf8",
   "metadata": {},
   "outputs": [],
   "source": [
    "legend_elements = [                  \n",
    "                   Line2D([0], [0], color=sns.color_palette('plasma', 10)[3], label='E64V/R73G', linestyle='-', marker=None, lw=4),\n",
    "                   Line2D([0], [0], color=sns.color_palette('plasma', 10)[0], label='E64V/M100W', linestyle='-', marker=None, lw=4),\n",
    "                   Line2D([0], [0], color=sns.color_palette('plasma', 10)[7], label='R53I/M100W', linestyle='-', marker=None, lw=4),\n",
    "                   Line2D([0], [0], color=sns.color_palette('plasma', 10)[9], label='D155S/M100W', linestyle='-', marker=None, lw=4)]"
   ]
  },
  {
   "cell_type": "code",
   "execution_count": null,
   "id": "ae714996-4ccc-4fb2-ba11-a2bb93e3fe73",
   "metadata": {},
   "outputs": [],
   "source": [
    "plt.figure(figsize=(4.5,4.5), facecolor='white')\n",
    "sns.lineplot(data=enzyme_assay_1[(enzyme_assay_1['Time [s]']>0)&(enzyme_assay_1['sample'].isin(['E64V-R73G', 'E64V-M100W']))], \n",
    "             x='Time [s]', y='rel_to_WT', hue='sample', palette=color_dict, lw=4, alpha=0.9)\n",
    "\n",
    "sns.lineplot(data=enzyme_assay_2[(enzyme_assay_2['Time [s]']>0)&(enzyme_assay_2['sample'].isin(['R53I-M100W', 'D155S-M100W']))],\n",
    "             x='Time [s]', y='rel_to_WT', hue='sample', palette=color_dict, lw=4, alpha=0.9)\n",
    "\n",
    "plt.legend(handles=legend_elements, fontsize=14, loc=(0.38,0.115), title_fontsize=14, frameon=False, ncol=1)\n",
    "\n",
    "\n",
    "\n",
    "plt.xlim(-100, 11609)\n",
    "plt.ylim(-0.05,1.05)\n",
    "plt.xlabel('Time (s)', fontsize=19)\n",
    "plt.ylabel('5-FC converted relative to WT', fontsize=19)\n",
    "plt.xticks(fontsize=13)\n",
    "plt.yticks(fontsize=13)\n",
    "plt.title('Co-expressed', fontsize=19)\n",
    "\n",
    "plt.savefig('./figures/fig4_a_2.svg', format='svg', dpi=600)"
   ]
  },
  {
   "cell_type": "markdown",
   "id": "a83dbb9f-c9a8-4d76-8cb7-9f6080c3ab7c",
   "metadata": {},
   "source": [
    "## Protein stability measurements"
   ]
  },
  {
   "cell_type": "code",
   "execution_count": null,
   "id": "db8327c9-10c9-44be-bd35-39d4c809e9ba",
   "metadata": {},
   "outputs": [],
   "source": [
    "ti_df = pd.read_excel('./spectra/heteromer_assay_cleaved.xlsx')\n",
    "ti_df"
   ]
  },
  {
   "cell_type": "code",
   "execution_count": null,
   "id": "32cf872c-e545-4d9b-80de-437f03d8438b",
   "metadata": {},
   "outputs": [],
   "source": [
    "plt.figure(figsize=(3.5,4.5), facecolor='white')\n",
    "\n",
    "ax = sns.swarmplot(data=ti_df, \n",
    "                   order = ['WT_1', 'WT_2', 'E64V', 'D155S', 'R73G', 'M100W', 'E64V/R73G', 'E64V/M100W', 'D155S/M100W'],\n",
    "                   y='variant', x='Tm', dodge=True, size=8, orient='h', color='k', alpha=0.75)\n",
    "\n",
    "sample_list = ['WT_1', 'WT_2', 'E64V', 'D155S', 'R73G', 'M100W', 'E64V/R73G', 'E64V/M100W', 'D155S/M100W']\n",
    "\n",
    "for y in range(0,9):\n",
    "    median = np.mean(ti_df[ti_df['variant']==sample_list[y]]['Tm'])\n",
    "    plt.plot([median, median], [y-0.2, y+0.2], '-', lw=3, zorder=9, color='red')\n",
    "    #print(sample_list[y], stats.t.interval(alpha=0.95, df=3-1, loc=mean, scale=sem))\n",
    "stats.t.interval(alpha=0.95, df=3-1, loc=37.98, scale=0.05)\n",
    "\n",
    "\n",
    "plt.xlabel('T$_{m}$  ($^\\circ$C)', fontsize=19)\n",
    "plt.xticks(fontsize=16)\n",
    "\n",
    "plt.yticks([0,1,2,3,4,5,6,7,8], ['WT$_{1}$', 'WT$_{2}$', 'E64V', 'D155S', 'R73G', 'M100W', 'E64V/R73G', 'E64V/M100W', 'D155S/M100W'], fontsize=12)\n",
    "plt.ylabel('Variant', fontsize=19, labelpad=-20)\n",
    "ax.get_yticklabels()[4].set_color(\"grey\")\n",
    "\n",
    "plt.plot([38.5], [4], '<', 'k', ms=12, color='grey')\n",
    "\n",
    "\n",
    "plt.xlim(38, 62)\n",
    "plt.ylim(9,-1)\n",
    "\n",
    "plt.tight_layout()\n",
    "\n",
    "plt.savefig('./figures/fig4_c.svg', format='svg', dpi=600)"
   ]
  },
  {
   "cell_type": "code",
   "execution_count": null,
   "id": "06accb49-ba73-4baa-8664-12bc80e494dc",
   "metadata": {},
   "outputs": [],
   "source": [
    "stats.ttest_ind(ti_df[ti_df['variant']=='E64V'].Tm, ti_df[(ti_df['variant']=='WT_1')|(ti_df['variant']=='WT_2')].Tm, equal_var=False)"
   ]
  },
  {
   "cell_type": "code",
   "execution_count": null,
   "id": "e1785168-4ebb-4582-ab55-2cd91190c18b",
   "metadata": {},
   "outputs": [],
   "source": [
    "stats.ttest_ind(ti_df[ti_df['variant']=='M100W'].Tm, ti_df[(ti_df['variant']=='WT_1')|(ti_df['variant']=='WT_2')].Tm, equal_var=False)"
   ]
  },
  {
   "cell_type": "code",
   "execution_count": null,
   "id": "95a13f41-97ff-405d-a11c-30fe0ef85fe7",
   "metadata": {},
   "outputs": [],
   "source": [
    "stats.ttest_ind(ti_df[ti_df['variant']=='D155S'].Tm, ti_df[(ti_df['variant']=='WT_1')|(ti_df['variant']=='WT_2')].Tm, equal_var=False)"
   ]
  },
  {
   "cell_type": "markdown",
   "id": "06f24018-176f-4e64-aa49-acb27e732693",
   "metadata": {},
   "source": [
    "## KD data"
   ]
  },
  {
   "cell_type": "code",
   "execution_count": null,
   "id": "9c125f83-1299-4cd9-ba90-2fdc97745252",
   "metadata": {},
   "outputs": [],
   "source": [
    "test_monolith_dict = {1:{'time':0, 'Kd':724, 'lower':73, 'upper':7192, 'signal/noise':4.1},\n",
    "                     2:{'time':9/60, 'Kd':102, 'lower':22, 'upper':480, 'signal/noise':4.7},\n",
    "                     3:{'time':22/60, 'Kd':26.6, 'lower':8.3, 'upper':85.2, 'signal/noise':6.8},\n",
    "                     4:{'time':32/60, 'Kd':14.8, 'lower':5.1, 'upper':43.2, 'signal/noise':8.1},\n",
    "                     5:{'time':70/60, 'Kd':5.83, 'lower':2.21, 'upper':15.41, 'signal/noise':11.6},\n",
    "                     6:{'time':98/60, 'Kd':4.85, 'lower':2.01, 'upper':11.69, 'signal/noise':13.7},\n",
    "                     7:{'time':132/60, 'Kd':4.82, 'lower':2.15, 'upper':10.74, 'signal/noise':15}}\n",
    "\n",
    "data_monolith = pd.DataFrame.from_dict(test_monolith_dict, orient='index')"
   ]
  },
  {
   "cell_type": "code",
   "execution_count": null,
   "id": "3dba93b0-5d52-4fd6-8e2d-b3f3122398a9",
   "metadata": {},
   "outputs": [],
   "source": [
    "plt.figure(figsize=(16,6), facecolor='white')\n",
    "plt.subplot(121)\n",
    "\n",
    "plt.plot(data_monolith['time'],data_monolith['Kd'], marker='o',  lw=3, ms=8, color='k')\n",
    "\n",
    "plt.text(1.75, 15, '4.82 nM', fontsize=18)\n",
    "plt.xlim(-0.025,2.4)\n",
    "\n",
    "plt.yscale('log')\n",
    "\n",
    "plt.fill_between(data_monolith['time'], data_monolith['lower'], data_monolith['upper'], color='lightgrey')\n",
    "\n",
    "plt.xlabel('Time (hours)', fontsize=20)\n",
    "plt.ylabel('FCY1$_{WT}$-FCY1$_{WT}$ K$_{D}$ (nM)', fontsize=20)\n",
    "\n",
    "plt.xticks(fontsize=15)\n",
    "plt.yticks(fontsize=15)\n",
    "\n",
    "\n",
    "\n",
    "plt.subplot(122)\n",
    "plt.plot(data_monolith['time'],data_monolith['signal/noise'], marker='o', lw=3, ms=8, color='k')\n",
    "plt.ylim(0,16)\n",
    "plt.xlabel('Time (hours)', fontsize=20)\n",
    "plt.ylabel('Signal to noise ratio', fontsize=20)\n",
    "plt.axhline(5, linestyle='--', color='red')\n",
    "plt.xticks(fontsize=15)\n",
    "plt.yticks(fontsize=15)\n",
    "\n",
    "plt.text(-3.45,15.8,'a', fontsize=28)\n",
    "plt.text(-0.50,15.8,'b', fontsize=28)\n",
    "\n",
    "\n",
    "plt.savefig('./figures/fig_KD.svg', format='svg', dpi=600)"
   ]
  }
 ],
 "metadata": {
  "kernelspec": {
   "display_name": "Python 3",
   "language": "python",
   "name": "python3"
  },
  "language_info": {
   "codemirror_mode": {
    "name": "ipython",
    "version": 3
   },
   "file_extension": ".py",
   "mimetype": "text/x-python",
   "name": "python",
   "nbconvert_exporter": "python",
   "pygments_lexer": "ipython3",
   "version": "3.7.9"
  }
 },
 "nbformat": 4,
 "nbformat_minor": 5
}
